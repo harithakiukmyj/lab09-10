{
 "cells": [
  {
   "cell_type": "code",
   "execution_count": null,
   "metadata": {
    "colab": {
     "base_uri": "https://localhost:8080/",
     "height": 619
    },
    "id": "ocngcfKU8Lew",
    "outputId": "7c06da5c-1e52-4613-f94b-dab4c2f3ed62"
   },
   "outputs": [],
   "source": [
    "import pandas as pd\n",
    "from sklearn.cluster import KMeans\n",
    "from sklearn.impute import SimpleImputer\n",
    "from sklearn.decomposition import PCA\n",
    "import matplotlib.pyplot as plt\n",
    "import seaborn as sns\n",
    "file_path = \"mldatasetfinal numbers (1).csv\"\n",
    "data = pd.read_csv(file_path)\n",
    "features = data.drop(columns=[\"Price\"])\n",
    "imputer = SimpleImputer(strategy=\"mean\")\n",
    "features_imputed = imputer.fit_transform(features)\n",
    "k = 3\n",
    "kmeans = KMeans(n_clusters=k, random_state=42)\n",
    "clusters = kmeans.fit_predict(features_imputed)\n",
    "pca = PCA(n_components=2)\n",
    "features_pca = pca.fit_transform(features_imputed)\n",
    "df_pca = pd.DataFrame(features_pca, columns=[\"PC1\", \"PC2\"])\n",
    "df_pca[\"Cluster\"] = clusters\n",
    "plt.figure(figsize=(10, 6))\n",
    "sns.scatterplot(x=\"PC1\", y=\"PC2\", hue=\"Cluster\", data=df_pca, palette=\"viridis\", legend=\"full\")\n",
    "plt.title(\"K-Means Clustering Visualization (PCA)\")\n",
    "plt.show()"
   ]
  },
  {
   "cell_type": "code",
   "execution_count": null,
   "metadata": {
    "colab": {
     "base_uri": "https://localhost:8080/",
     "height": 1000
    },
    "id": "vKqQGeukBiE5",
    "outputId": "d70d6ffe-9807-4890-fb5d-9014d1228858"
   },
   "outputs": [],
   "source": [
    "import pandas as pd\n",
    "import numpy as np\n",
    "from sklearn.cluster import KMeans\n",
    "from sklearn.impute import SimpleImputer\n",
    "import matplotlib.pyplot as plt\n",
    "file_path = \"mldatasetfinal numbers (1).csv\"\n",
    "data = pd.read_csv(file_path)\n",
    "features = data.drop(columns=[\"Price\"]) \n",
    "imputer = SimpleImputer(strategy=\"mean\")\n",
    "features_imputed = imputer.fit_transform(features)\n",
    "k_values = range(1, 32)\n",
    "distortions = []\n",
    "for k in k_values:\n",
    "    kmeans = KMeans(n_clusters=k, random_state=42)\n",
    "    kmeans.fit(features_imputed)\n",
    "    distortions.append(kmeans.inertia_)\n",
    "plt.figure(figsize=(10, 6))\n",
    "plt.plot(k_values, distortions, marker='o')\n",
    "plt.title('Elbow Method for Optimal k')\n",
    "plt.xlabel('Number of Clusters (k)')\n",
    "plt.ylabel('Average Euclidean Distance')\n",
    "plt.show()\n"
   ]
  },
  {
   "cell_type": "code",
   "execution_count": null,
   "metadata": {
    "colab": {
     "base_uri": "https://localhost:8080/",
     "height": 768
    },
    "id": "5EmFLxZNCobp",
    "outputId": "c89d25a2-4c7f-4908-c76d-9947e704fd93"
   },
   "outputs": [],
   "source": [
    "#3\n",
    "import pandas as pd\n",
    "import numpy as np\n",
    "from sklearn.cluster import AgglomerativeClustering\n",
    "from sklearn.impute import SimpleImputer\n",
    "from scipy.cluster.hierarchy import dendrogram, linkage\n",
    "import matplotlib.pyplot as plt\n",
    "file_path = \"mldatasetfinal numbers (1).csv\"\n",
    "data = pd.read_csv(file_path)\n",
    "features = data.drop(columns=[\"Price\"]) \n",
    "imputer = SimpleImputer(strategy=\"mean\")\n",
    "features_imputed = imputer.fit_transform(features)\n",
    "agg_cluster = AgglomerativeClustering(n_clusters=None, distance_threshold=0, linkage='ward')\n",
    "clusters = agg_cluster.fit_predict(features_imputed)\n",
    "linkage_matrix = linkage(features_imputed, method='ward')\n",
    "plt.figure(figsize=(15, 8))\n",
    "dendrogram(linkage_matrix, truncate_mode='level', p=3, leaf_rotation=45, leaf_font_size=12, show_contracted=True)\n",
    "plt.title('Hierarchical Clustering Dendrogram')\n",
    "plt.xlabel('Sample Index or (Cluster Size)')\n",
    "plt.ylabel('Distance')\n",
    "plt.show()"
   ]
  },
  {
   "cell_type": "code",
   "execution_count": null,
   "metadata": {
    "colab": {
     "base_uri": "https://localhost:8080/",
     "height": 625
    },
    "id": "Na2NOWOAEGXl",
    "outputId": "7b6be6e1-d337-4d65-a10d-a8b1ac82a3b5"
   },
   "outputs": [],
   "source": [
    "import pandas as pd\n",
    "from sklearn.model_selection import train_test_split\n",
    "from sklearn.ensemble import RandomForestClassifier\n",
    "from mlxtend.feature_selection import SequentialFeatureSelector\n",
    "from mlxtend.plotting import plot_sequential_feature_selection as plot_sfs\n",
    "import matplotlib.pyplot as plt\n",
    "data = pd.read_csv(file_path)\n",
    "X = data.drop(columns=[\"Price\"]) \n",
    "y = data[\"Price\"]\n",
    "from sklearn.impute import SimpleImputer\n",
    "imputer = SimpleImputer(strategy=\"mean\")\n",
    "X_imputed = imputer.fit_transform(X)\n",
    "X_train, X_test, y_train, y_test = train_test_split(X_imputed, y, test_size=0.2, random_state=42)\n",
    "clf = RandomForestClassifier(n_estimators=100, random_state=42)\n",
    "sfs = SequentialFeatureSelector(clf, k_features=\"best\", forward=True, floating=False, verbose=2, scoring='accuracy', cv=5)\n",
    "sfs.fit(X_train, y_train)\n",
    "fig = plot_sfs(sfs.get_metric_dict(), kind='std_dev')\n",
    "print(\"Selected feature indices:\", sfs.k_feature_idx_)\n",
    "X_train_selected = sfs.transform(X_train)\n",
    "X_test_selected = sfs.transform(X_test)"
   ]
  },
  {
   "cell_type": "code",
   "execution_count": null,
   "metadata": {
    "colab": {
     "base_uri": "https://localhost:8080/",
     "height": 504
    },
    "id": "6rg5gvCHDSx7",
    "outputId": "89c77e91-d3d7-48c3-871b-ddffc44836ef"
   },
   "outputs": [],
   "source": [
    "import pandas as pd\n",
    "from sklearn.decomposition import PCA\n",
    "from sklearn.impute import SimpleImputer\n",
    "file_path = \"mldatasetfinal numbers (1).csv\"\n",
    "data = pd.read_csv(file_path)\n",
    "features = data.drop(columns=[\"Price\"])\n",
    "imputer = SimpleImputer(strategy=\"mean\")\n",
    "features_imputed = imputer.fit_transform(features)\n",
    "pca = PCA()\n",
    "features_pca = pca.fit_transform(features_imputed)\n",
    "cumulative_variance_ratio = np.cumsum(pca.explained_variance_ratio_)\n",
    "num_components_95_percent = np.argmax(cumulative_variance_ratio >= 0.95) + 1\n",
    "print(\"Number of features needed to capture 95% of data variance:\", num_components_95_percent)\n",
    "plt.plot(range(1, len(pca.explained_variance_ratio_) + 1), cumulative_variance_ratio, marker='o')\n",
    "plt.xlabel('Number of Principal Components')\n",
    "plt.ylabel('Cumulative Explained Variance Ratio')\n",
    "plt.title('Explained Variance Ratio vs. Number of Principal Components')\n",
    "plt.show()"
   ]
  },
  {
   "cell_type": "code",
   "execution_count": null,
   "metadata": {
    "colab": {
     "base_uri": "https://localhost:8080/"
    },
    "id": "JLf3QZxfDS0O",
    "outputId": "4e4ce3b1-eb3e-4ed4-a2ce-4548646b730f"
   },
   "outputs": [],
   "source": [
    "import pandas as pd\n",
    "from sklearn.decomposition import PCA\n",
    "from sklearn.impute import SimpleImputer\n",
    "from sklearn.ensemble import RandomForestClassifier\n",
    "from sklearn.model_selection import train_test_split\n",
    "from sklearn.metrics import accuracy_score\n",
    "file_path = \"mldatasetfinal numbers (1).csv\"\n",
    "data = pd.read_csv(file_path)\n",
    "X = data.drop(columns=[\"Price\"]) \n",
    "y = data[\"Price\"] \n",
    "imputer = SimpleImputer(strategy=\"mean\")\n",
    "X_imputed = imputer.fit_transform(X)\n",
    "pca = PCA(n_components=num_components_95_percent)\n",
    "X_pca = pca.fit_transform(X_imputed)\n",
    "X_train, X_test, y_train, y_test = train_test_split(X_pca, y, test_size=0.2, random_state=42)\n",
    "clf = RandomForestClassifier(n_estimators=100, random_state=42)\n",
    "clf.fit(X_train, y_train)\n",
    "y_pred = clf.predict(X_test)\n",
    "accuracy = accuracy_score(y_test, y_pred)\n",
    "print(\"Accuracy using transformed dataset:\", accuracy)"
   ]
  },
  {
   "cell_type": "code",
   "execution_count": null,
   "metadata": {},
   "outputs": [],
   "source": []
  }
 ],
 "metadata": {
  "colab": {
   "provenance": []
  },
  "kernelspec": {
   "display_name": "Python 3 (ipykernel)",
   "language": "python",
   "name": "python3"
  },
  "language_info": {
   "codemirror_mode": {
    "name": "ipython",
    "version": 3
   },
   "file_extension": ".py",
   "mimetype": "text/x-python",
   "name": "python",
   "nbconvert_exporter": "python",
   "pygments_lexer": "ipython3",
   "version": "3.12.0"
  }
 },
 "nbformat": 4,
 "nbformat_minor": 4
}
